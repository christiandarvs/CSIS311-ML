{
 "cells": [
  {
   "cell_type": "markdown",
   "metadata": {},
   "source": [
    "## Numpy and Pandas Lesson"
   ]
  },
  {
   "cell_type": "code",
   "execution_count": 34,
   "metadata": {},
   "outputs": [],
   "source": [
    "import pandas as pd\n",
    "import numpy as np\n",
    "import matplotlib.pyplot as plt\n",
    "import seaborn as sns"
   ]
  },
  {
   "cell_type": "code",
   "execution_count": 35,
   "metadata": {},
   "outputs": [
    {
     "name": "stdout",
     "output_type": "stream",
     "text": [
      "0     3\n",
      "1     6\n",
      "2     9\n",
      "3    12\n",
      "dtype: int64 \n",
      "\n",
      "Values: [ 3  6  9 12]\n",
      "\n",
      "Index: RangeIndex(start=0, stop=4, step=1)\n",
      "\n"
     ]
    }
   ],
   "source": [
    "obj = pd.Series([3, 6, 9, 12])\n",
    "print(obj, \"\\n\")\n",
    "print(f\"Values: {obj.values}\\n\")\n",
    "print(f\"Index: {obj.index}\\n\")"
   ]
  },
  {
   "cell_type": "code",
   "execution_count": 36,
   "metadata": {},
   "outputs": [
    {
     "name": "stdout",
     "output_type": "stream",
     "text": [
      "Prelim      67.45\n",
      "Midterm     82.20\n",
      "Prefinal    86.54\n",
      "Final       78.34\n",
      "dtype: float64 \n",
      "\n",
      "Midterm: 82.2\n",
      "\n",
      "Grades that are greater than 80 \n",
      "Midterm     82.20\n",
      "Prefinal    86.54\n",
      "dtype: float64\n"
     ]
    }
   ],
   "source": [
    "# Series with an Index\n",
    "grade = pd.Series(\n",
    "    [67.45, 82.20, 86.54, 78.34], index=[\"Prelim\", \"Midterm\", \"Prefinal\", \"Final\"]\n",
    ")\n",
    "print(grade, \"\\n\")\n",
    "print(f'Midterm: {grade[\"Midterm\"]}\\n')\n",
    "print(f\"Grades that are greater than 80 \\n{grade[grade > 80]}\")"
   ]
  },
  {
   "cell_type": "code",
   "execution_count": 37,
   "metadata": {},
   "outputs": [
    {
     "data": {
      "text/plain": [
       "{'Prelim': 67.45, 'Midterm': 82.2, 'Prefinal': 86.54, 'Final': 78.34}"
      ]
     },
     "execution_count": 37,
     "metadata": {},
     "output_type": "execute_result"
    }
   ],
   "source": [
    "grade_dict = grade.to_dict()\n",
    "grade_dict"
   ]
  },
  {
   "cell_type": "code",
   "execution_count": 38,
   "metadata": {},
   "outputs": [
    {
     "data": {
      "text/plain": [
       "Prelim      67.45\n",
       "Midterm     82.20\n",
       "Prefinal    86.54\n",
       "Final       78.34\n",
       "dtype: float64"
      ]
     },
     "execution_count": 38,
     "metadata": {},
     "output_type": "execute_result"
    }
   ],
   "source": [
    "pd.Series(grade_dict)"
   ]
  },
  {
   "cell_type": "code",
   "execution_count": 39,
   "metadata": {},
   "outputs": [
    {
     "name": "stdout",
     "output_type": "stream",
     "text": [
      "Check if there are null values \n",
      "Prelim      False\n",
      "Midterm     False\n",
      "Prefinal    False\n",
      "Final       False\n",
      "dtype: bool\n"
     ]
    }
   ],
   "source": [
    "print(f\"Check if there are null values \\n{pd.isnull(grade)}\")"
   ]
  },
  {
   "cell_type": "code",
   "execution_count": 40,
   "metadata": {},
   "outputs": [
    {
     "name": "stdout",
     "output_type": "stream",
     "text": [
      "Prelim         67.45\n",
      "Midterm        82.20\n",
      "Prefinal       86.54\n",
      "Final          78.34\n",
      "Final_Grade      NaN\n",
      "dtype: float64 \n",
      "\n",
      "Prelim         67.45\n",
      "Midterm        82.20\n",
      "Prefinal       86.54\n",
      "Final          78.34\n",
      "Final_Grade    78.63\n",
      "dtype: float64\n"
     ]
    }
   ],
   "source": [
    "term = [\"Prelim\", \"Midterm\", \"Prefinal\", \"Final\", \"Final_Grade\"]\n",
    "obj2 = pd.Series(grade, index=term)\n",
    "print(obj2, \"\\n\")\n",
    "\n",
    "obj2[\"Final_Grade\"] = round(sum(grade.values) / len(grade.keys()), 2)\n",
    "print(obj2)"
   ]
  },
  {
   "cell_type": "code",
   "execution_count": 41,
   "metadata": {},
   "outputs": [],
   "source": [
    "# import webbrowser\n",
    "\n",
    "# website = \"https://en.wikipedia.org/wiki/List_of_all-time_NFL_win%E2%80%93loss_records\"\n",
    "# webbrowser.open(website)"
   ]
  },
  {
   "cell_type": "code",
   "execution_count": 42,
   "metadata": {},
   "outputs": [],
   "source": [
    "website = \"https://en.wikipedia.org/wiki/List_of_all-time_NFL_win%E2%80%93loss_records\"\n",
    "\n",
    "\n",
    "nfl_frame = pd.read_html(website)\n",
    "\n",
    "\n",
    "df = nfl_frame[1]\n",
    "\n",
    "\n",
    "df.drop(index=32, inplace=True)"
   ]
  },
  {
   "cell_type": "code",
   "execution_count": 43,
   "metadata": {},
   "outputs": [
    {
     "data": {
      "text/html": [
       "<div>\n",
       "<style scoped>\n",
       "    .dataframe tbody tr th:only-of-type {\n",
       "        vertical-align: middle;\n",
       "    }\n",
       "\n",
       "    .dataframe tbody tr th {\n",
       "        vertical-align: top;\n",
       "    }\n",
       "\n",
       "    .dataframe thead th {\n",
       "        text-align: right;\n",
       "    }\n",
       "</style>\n",
       "<table border=\"1\" class=\"dataframe\">\n",
       "  <thead>\n",
       "    <tr style=\"text-align: right;\">\n",
       "      <th></th>\n",
       "      <th>Rank</th>\n",
       "      <th>Team</th>\n",
       "      <th>GP</th>\n",
       "      <th>Won</th>\n",
       "      <th>Lost</th>\n",
       "      <th>Tied[c]</th>\n",
       "      <th>Pct.</th>\n",
       "      <th>First NFL season</th>\n",
       "      <th>Division</th>\n",
       "    </tr>\n",
       "  </thead>\n",
       "  <tbody>\n",
       "    <tr>\n",
       "      <th>0</th>\n",
       "      <td>1</td>\n",
       "      <td>Dallas Cowboys</td>\n",
       "      <td>981</td>\n",
       "      <td>562</td>\n",
       "      <td>413</td>\n",
       "      <td>6 (0)</td>\n",
       "      <td>.576</td>\n",
       "      <td>1960</td>\n",
       "      <td>NFC East</td>\n",
       "    </tr>\n",
       "    <tr>\n",
       "      <th>1</th>\n",
       "      <td>2</td>\n",
       "      <td>Green Bay Packers</td>\n",
       "      <td>1435</td>\n",
       "      <td>799</td>\n",
       "      <td>598</td>\n",
       "      <td>38 (8)</td>\n",
       "      <td>.572</td>\n",
       "      <td>1921</td>\n",
       "      <td>NFC North</td>\n",
       "    </tr>\n",
       "    <tr>\n",
       "      <th>2</th>\n",
       "      <td>3</td>\n",
       "      <td>Baltimore Ravens</td>\n",
       "      <td>451</td>\n",
       "      <td>256</td>\n",
       "      <td>194</td>\n",
       "      <td>1</td>\n",
       "      <td>.569</td>\n",
       "      <td>1996</td>\n",
       "      <td>AFC North</td>\n",
       "    </tr>\n",
       "    <tr>\n",
       "      <th>3</th>\n",
       "      <td>4</td>\n",
       "      <td>Chicago Bears</td>\n",
       "      <td>1469</td>\n",
       "      <td>793</td>\n",
       "      <td>634</td>\n",
       "      <td>42 (1)</td>\n",
       "      <td>.556</td>\n",
       "      <td>1920</td>\n",
       "      <td>NFC North</td>\n",
       "    </tr>\n",
       "    <tr>\n",
       "      <th>4</th>\n",
       "      <td>5</td>\n",
       "      <td>New England Patriots</td>\n",
       "      <td>983</td>\n",
       "      <td>541</td>\n",
       "      <td>433</td>\n",
       "      <td>9 (0)</td>\n",
       "      <td>.555</td>\n",
       "      <td>1960</td>\n",
       "      <td>AFC East</td>\n",
       "    </tr>\n",
       "    <tr>\n",
       "      <th>5</th>\n",
       "      <td>6</td>\n",
       "      <td>Miami Dolphins</td>\n",
       "      <td>899</td>\n",
       "      <td>496</td>\n",
       "      <td>399</td>\n",
       "      <td>4 (1)</td>\n",
       "      <td>.554</td>\n",
       "      <td>1966</td>\n",
       "      <td>AFC East</td>\n",
       "    </tr>\n",
       "    <tr>\n",
       "      <th>6</th>\n",
       "      <td>7</td>\n",
       "      <td>Kansas City Chiefs</td>\n",
       "      <td>983</td>\n",
       "      <td>532</td>\n",
       "      <td>439</td>\n",
       "      <td>12 (4)</td>\n",
       "      <td>.548</td>\n",
       "      <td>1960</td>\n",
       "      <td>AFC West</td>\n",
       "    </tr>\n",
       "    <tr>\n",
       "      <th>7</th>\n",
       "      <td>8</td>\n",
       "      <td>Minnesota Vikings</td>\n",
       "      <td>969</td>\n",
       "      <td>523</td>\n",
       "      <td>435</td>\n",
       "      <td>11 (4)</td>\n",
       "      <td>.546</td>\n",
       "      <td>1961</td>\n",
       "      <td>NFC North</td>\n",
       "    </tr>\n",
       "    <tr>\n",
       "      <th>8</th>\n",
       "      <td>9</td>\n",
       "      <td>San Francisco 49ers[b]</td>\n",
       "      <td>1101</td>\n",
       "      <td>586</td>\n",
       "      <td>501</td>\n",
       "      <td>14 (3)</td>\n",
       "      <td>.539</td>\n",
       "      <td>1950</td>\n",
       "      <td>NFC West</td>\n",
       "    </tr>\n",
       "    <tr>\n",
       "      <th>9</th>\n",
       "      <td>10</td>\n",
       "      <td>Pittsburgh Steelers</td>\n",
       "      <td>1271</td>\n",
       "      <td>671</td>\n",
       "      <td>578</td>\n",
       "      <td>22 (4)</td>\n",
       "      <td>.537</td>\n",
       "      <td>1933</td>\n",
       "      <td>AFC North</td>\n",
       "    </tr>\n",
       "  </tbody>\n",
       "</table>\n",
       "</div>"
      ],
      "text/plain": [
       "  Rank                    Team    GP  Won Lost Tied[c]  Pct. First NFL season  \\\n",
       "0    1          Dallas Cowboys   981  562  413   6 (0)  .576             1960   \n",
       "1    2       Green Bay Packers  1435  799  598  38 (8)  .572             1921   \n",
       "2    3        Baltimore Ravens   451  256  194       1  .569             1996   \n",
       "3    4           Chicago Bears  1469  793  634  42 (1)  .556             1920   \n",
       "4    5    New England Patriots   983  541  433   9 (0)  .555             1960   \n",
       "5    6          Miami Dolphins   899  496  399   4 (1)  .554             1966   \n",
       "6    7      Kansas City Chiefs   983  532  439  12 (4)  .548             1960   \n",
       "7    8       Minnesota Vikings   969  523  435  11 (4)  .546             1961   \n",
       "8    9  San Francisco 49ers[b]  1101  586  501  14 (3)  .539             1950   \n",
       "9   10     Pittsburgh Steelers  1271  671  578  22 (4)  .537             1933   \n",
       "\n",
       "    Division  \n",
       "0   NFC East  \n",
       "1  NFC North  \n",
       "2  AFC North  \n",
       "3  NFC North  \n",
       "4   AFC East  \n",
       "5   AFC East  \n",
       "6   AFC West  \n",
       "7  NFC North  \n",
       "8   NFC West  \n",
       "9  AFC North  "
      ]
     },
     "execution_count": 43,
     "metadata": {},
     "output_type": "execute_result"
    }
   ],
   "source": [
    "df.head(10)"
   ]
  },
  {
   "cell_type": "code",
   "execution_count": 44,
   "metadata": {},
   "outputs": [
    {
     "data": {
      "text/html": [
       "<div>\n",
       "<style scoped>\n",
       "    .dataframe tbody tr th:only-of-type {\n",
       "        vertical-align: middle;\n",
       "    }\n",
       "\n",
       "    .dataframe tbody tr th {\n",
       "        vertical-align: top;\n",
       "    }\n",
       "\n",
       "    .dataframe thead th {\n",
       "        text-align: right;\n",
       "    }\n",
       "</style>\n",
       "<table border=\"1\" class=\"dataframe\">\n",
       "  <thead>\n",
       "    <tr style=\"text-align: right;\">\n",
       "      <th></th>\n",
       "      <th>Rank</th>\n",
       "      <th>Team</th>\n",
       "      <th>GP</th>\n",
       "      <th>Won</th>\n",
       "      <th>Lost</th>\n",
       "      <th>Tied[c]</th>\n",
       "      <th>Pct.</th>\n",
       "      <th>First NFL season</th>\n",
       "      <th>Division</th>\n",
       "    </tr>\n",
       "  </thead>\n",
       "  <tbody>\n",
       "    <tr>\n",
       "      <th>2</th>\n",
       "      <td>3</td>\n",
       "      <td>Baltimore Ravens</td>\n",
       "      <td>451</td>\n",
       "      <td>256</td>\n",
       "      <td>194</td>\n",
       "      <td>1</td>\n",
       "      <td>.569</td>\n",
       "      <td>1996</td>\n",
       "      <td>AFC North</td>\n",
       "    </tr>\n",
       "    <tr>\n",
       "      <th>5</th>\n",
       "      <td>6</td>\n",
       "      <td>Miami Dolphins</td>\n",
       "      <td>899</td>\n",
       "      <td>496</td>\n",
       "      <td>399</td>\n",
       "      <td>4 (1)</td>\n",
       "      <td>.554</td>\n",
       "      <td>1966</td>\n",
       "      <td>AFC East</td>\n",
       "    </tr>\n",
       "    <tr>\n",
       "      <th>7</th>\n",
       "      <td>8</td>\n",
       "      <td>Minnesota Vikings</td>\n",
       "      <td>969</td>\n",
       "      <td>523</td>\n",
       "      <td>435</td>\n",
       "      <td>11 (4)</td>\n",
       "      <td>.546</td>\n",
       "      <td>1961</td>\n",
       "      <td>NFC North</td>\n",
       "    </tr>\n",
       "    <tr>\n",
       "      <th>14</th>\n",
       "      <td>15</td>\n",
       "      <td>Seattle Seahawks</td>\n",
       "      <td>759</td>\n",
       "      <td>392</td>\n",
       "      <td>366</td>\n",
       "      <td>1</td>\n",
       "      <td>.517</td>\n",
       "      <td>1976</td>\n",
       "      <td>NFC West</td>\n",
       "    </tr>\n",
       "    <tr>\n",
       "      <th>22</th>\n",
       "      <td>23</td>\n",
       "      <td>New Orleans Saints</td>\n",
       "      <td>870</td>\n",
       "      <td>412</td>\n",
       "      <td>468</td>\n",
       "      <td>5 (1)</td>\n",
       "      <td>.468</td>\n",
       "      <td>1967</td>\n",
       "      <td>NFC South</td>\n",
       "    </tr>\n",
       "    <tr>\n",
       "      <th>23</th>\n",
       "      <td>24</td>\n",
       "      <td>Carolina Panthers</td>\n",
       "      <td>467</td>\n",
       "      <td>214</td>\n",
       "      <td>252</td>\n",
       "      <td>1</td>\n",
       "      <td>.459</td>\n",
       "      <td>1995</td>\n",
       "      <td>NFC South</td>\n",
       "    </tr>\n",
       "    <tr>\n",
       "      <th>24</th>\n",
       "      <td>25</td>\n",
       "      <td>Cincinnati Bengals</td>\n",
       "      <td>869</td>\n",
       "      <td>394</td>\n",
       "      <td>471</td>\n",
       "      <td>5 (4)</td>\n",
       "      <td>.456</td>\n",
       "      <td>1968</td>\n",
       "      <td>AFC North</td>\n",
       "    </tr>\n",
       "    <tr>\n",
       "      <th>27</th>\n",
       "      <td>28</td>\n",
       "      <td>Atlanta Falcons</td>\n",
       "      <td>899</td>\n",
       "      <td>390</td>\n",
       "      <td>503</td>\n",
       "      <td>6 (2)</td>\n",
       "      <td>.437</td>\n",
       "      <td>1966</td>\n",
       "      <td>NFC South</td>\n",
       "    </tr>\n",
       "    <tr>\n",
       "      <th>28</th>\n",
       "      <td>29</td>\n",
       "      <td>Houston Texans</td>\n",
       "      <td>355</td>\n",
       "      <td>152</td>\n",
       "      <td>202</td>\n",
       "      <td>1</td>\n",
       "      <td>.430</td>\n",
       "      <td>2002</td>\n",
       "      <td>AFC South</td>\n",
       "    </tr>\n",
       "    <tr>\n",
       "      <th>29</th>\n",
       "      <td>30</td>\n",
       "      <td>Jacksonville Jaguars</td>\n",
       "      <td>467</td>\n",
       "      <td>198</td>\n",
       "      <td>269</td>\n",
       "      <td>0</td>\n",
       "      <td>.424</td>\n",
       "      <td>1995</td>\n",
       "      <td>AFC South</td>\n",
       "    </tr>\n",
       "    <tr>\n",
       "      <th>31</th>\n",
       "      <td>32</td>\n",
       "      <td>Tampa Bay Buccaneers</td>\n",
       "      <td>759</td>\n",
       "      <td>308</td>\n",
       "      <td>450</td>\n",
       "      <td>1</td>\n",
       "      <td>.406</td>\n",
       "      <td>1976</td>\n",
       "      <td>NFC South</td>\n",
       "    </tr>\n",
       "  </tbody>\n",
       "</table>\n",
       "</div>"
      ],
      "text/plain": [
       "   Rank                  Team   GP  Won Lost Tied[c]  Pct.  First NFL season  \\\n",
       "2     3      Baltimore Ravens  451  256  194       1  .569              1996   \n",
       "5     6        Miami Dolphins  899  496  399   4 (1)  .554              1966   \n",
       "7     8     Minnesota Vikings  969  523  435  11 (4)  .546              1961   \n",
       "14   15      Seattle Seahawks  759  392  366       1  .517              1976   \n",
       "22   23    New Orleans Saints  870  412  468   5 (1)  .468              1967   \n",
       "23   24     Carolina Panthers  467  214  252       1  .459              1995   \n",
       "24   25    Cincinnati Bengals  869  394  471   5 (4)  .456              1968   \n",
       "27   28       Atlanta Falcons  899  390  503   6 (2)  .437              1966   \n",
       "28   29        Houston Texans  355  152  202       1  .430              2002   \n",
       "29   30  Jacksonville Jaguars  467  198  269       0  .424              1995   \n",
       "31   32  Tampa Bay Buccaneers  759  308  450       1  .406              1976   \n",
       "\n",
       "     Division  \n",
       "2   AFC North  \n",
       "5    AFC East  \n",
       "7   NFC North  \n",
       "14   NFC West  \n",
       "22  NFC South  \n",
       "23  NFC South  \n",
       "24  AFC North  \n",
       "27  NFC South  \n",
       "28  AFC South  \n",
       "29  AFC South  \n",
       "31  NFC South  "
      ]
     },
     "execution_count": 44,
     "metadata": {},
     "output_type": "execute_result"
    }
   ],
   "source": [
    "df[\"First NFL season\"] = df[\"First NFL season\"].astype(int)\n",
    "above_1960 = df[df[\"First NFL season\"] > 1960]\n",
    "above_1960"
   ]
  },
  {
   "cell_type": "code",
   "execution_count": 45,
   "metadata": {},
   "outputs": [
    {
     "data": {
      "text/plain": [
       "Index(['Rank', 'Team', 'GP', 'Won', 'Lost', 'Tied[c]', 'Pct.',\n",
       "       'First NFL season', 'Division'],\n",
       "      dtype='object')"
      ]
     },
     "execution_count": 45,
     "metadata": {},
     "output_type": "execute_result"
    }
   ],
   "source": [
    "df.columns"
   ]
  },
  {
   "cell_type": "code",
   "execution_count": 46,
   "metadata": {},
   "outputs": [
    {
     "data": {
      "text/html": [
       "<div>\n",
       "<style scoped>\n",
       "    .dataframe tbody tr th:only-of-type {\n",
       "        vertical-align: middle;\n",
       "    }\n",
       "\n",
       "    .dataframe tbody tr th {\n",
       "        vertical-align: top;\n",
       "    }\n",
       "\n",
       "    .dataframe thead th {\n",
       "        text-align: right;\n",
       "    }\n",
       "</style>\n",
       "<table border=\"1\" class=\"dataframe\">\n",
       "  <thead>\n",
       "    <tr style=\"text-align: right;\">\n",
       "      <th></th>\n",
       "      <th>Team</th>\n",
       "      <th>First NFL season</th>\n",
       "    </tr>\n",
       "  </thead>\n",
       "  <tbody>\n",
       "    <tr>\n",
       "      <th>0</th>\n",
       "      <td>Dallas Cowboys</td>\n",
       "      <td>1960</td>\n",
       "    </tr>\n",
       "    <tr>\n",
       "      <th>1</th>\n",
       "      <td>Green Bay Packers</td>\n",
       "      <td>1921</td>\n",
       "    </tr>\n",
       "    <tr>\n",
       "      <th>2</th>\n",
       "      <td>Baltimore Ravens</td>\n",
       "      <td>1996</td>\n",
       "    </tr>\n",
       "    <tr>\n",
       "      <th>3</th>\n",
       "      <td>Chicago Bears</td>\n",
       "      <td>1920</td>\n",
       "    </tr>\n",
       "    <tr>\n",
       "      <th>4</th>\n",
       "      <td>New England Patriots</td>\n",
       "      <td>1960</td>\n",
       "    </tr>\n",
       "  </tbody>\n",
       "</table>\n",
       "</div>"
      ],
      "text/plain": [
       "                   Team  First NFL season\n",
       "0        Dallas Cowboys              1960\n",
       "1     Green Bay Packers              1921\n",
       "2      Baltimore Ravens              1996\n",
       "3         Chicago Bears              1920\n",
       "4  New England Patriots              1960"
      ]
     },
     "execution_count": 46,
     "metadata": {},
     "output_type": "execute_result"
    }
   ],
   "source": [
    "adf = pd.DataFrame(df, columns=[\"Team\", \"First NFL season\"])\n",
    "adf.head()"
   ]
  },
  {
   "cell_type": "code",
   "execution_count": 47,
   "metadata": {},
   "outputs": [
    {
     "data": {
      "text/html": [
       "<div>\n",
       "<style scoped>\n",
       "    .dataframe tbody tr th:only-of-type {\n",
       "        vertical-align: middle;\n",
       "    }\n",
       "\n",
       "    .dataframe tbody tr th {\n",
       "        vertical-align: top;\n",
       "    }\n",
       "\n",
       "    .dataframe thead th {\n",
       "        text-align: right;\n",
       "    }\n",
       "</style>\n",
       "<table border=\"1\" class=\"dataframe\">\n",
       "  <thead>\n",
       "    <tr style=\"text-align: right;\">\n",
       "      <th></th>\n",
       "      <th>Rank</th>\n",
       "      <th>Team</th>\n",
       "      <th>GP</th>\n",
       "      <th>Won</th>\n",
       "      <th>Lost</th>\n",
       "      <th>Tied[c]</th>\n",
       "      <th>Pct.</th>\n",
       "      <th>First NFL season</th>\n",
       "      <th>Division</th>\n",
       "      <th>Stadium</th>\n",
       "    </tr>\n",
       "  </thead>\n",
       "  <tbody>\n",
       "    <tr>\n",
       "      <th>0</th>\n",
       "      <td>1</td>\n",
       "      <td>Dallas Cowboys</td>\n",
       "      <td>981</td>\n",
       "      <td>562</td>\n",
       "      <td>413</td>\n",
       "      <td>6 (0)</td>\n",
       "      <td>.576</td>\n",
       "      <td>1960</td>\n",
       "      <td>NFC East</td>\n",
       "      <td>None</td>\n",
       "    </tr>\n",
       "    <tr>\n",
       "      <th>1</th>\n",
       "      <td>2</td>\n",
       "      <td>Green Bay Packers</td>\n",
       "      <td>1435</td>\n",
       "      <td>799</td>\n",
       "      <td>598</td>\n",
       "      <td>38 (8)</td>\n",
       "      <td>.572</td>\n",
       "      <td>1921</td>\n",
       "      <td>NFC North</td>\n",
       "      <td>None</td>\n",
       "    </tr>\n",
       "    <tr>\n",
       "      <th>2</th>\n",
       "      <td>3</td>\n",
       "      <td>Baltimore Ravens</td>\n",
       "      <td>451</td>\n",
       "      <td>256</td>\n",
       "      <td>194</td>\n",
       "      <td>1</td>\n",
       "      <td>.569</td>\n",
       "      <td>1996</td>\n",
       "      <td>AFC North</td>\n",
       "      <td>None</td>\n",
       "    </tr>\n",
       "    <tr>\n",
       "      <th>3</th>\n",
       "      <td>4</td>\n",
       "      <td>Chicago Bears</td>\n",
       "      <td>1469</td>\n",
       "      <td>793</td>\n",
       "      <td>634</td>\n",
       "      <td>42 (1)</td>\n",
       "      <td>.556</td>\n",
       "      <td>1920</td>\n",
       "      <td>NFC North</td>\n",
       "      <td>None</td>\n",
       "    </tr>\n",
       "    <tr>\n",
       "      <th>4</th>\n",
       "      <td>5</td>\n",
       "      <td>New England Patriots</td>\n",
       "      <td>983</td>\n",
       "      <td>541</td>\n",
       "      <td>433</td>\n",
       "      <td>9 (0)</td>\n",
       "      <td>.555</td>\n",
       "      <td>1960</td>\n",
       "      <td>AFC East</td>\n",
       "      <td>None</td>\n",
       "    </tr>\n",
       "  </tbody>\n",
       "</table>\n",
       "</div>"
      ],
      "text/plain": [
       "  Rank                  Team    GP  Won Lost Tied[c]  Pct.  First NFL season  \\\n",
       "0    1        Dallas Cowboys   981  562  413   6 (0)  .576              1960   \n",
       "1    2     Green Bay Packers  1435  799  598  38 (8)  .572              1921   \n",
       "2    3      Baltimore Ravens   451  256  194       1  .569              1996   \n",
       "3    4         Chicago Bears  1469  793  634  42 (1)  .556              1920   \n",
       "4    5  New England Patriots   983  541  433   9 (0)  .555              1960   \n",
       "\n",
       "    Division Stadium  \n",
       "0   NFC East    None  \n",
       "1  NFC North    None  \n",
       "2  AFC North    None  \n",
       "3  NFC North    None  \n",
       "4   AFC East    None  "
      ]
     },
     "execution_count": 47,
     "metadata": {},
     "output_type": "execute_result"
    }
   ],
   "source": [
    "df[\"Stadium\"] = None\n",
    "df.head()"
   ]
  },
  {
   "cell_type": "code",
   "execution_count": 48,
   "metadata": {},
   "outputs": [
    {
     "data": {
      "text/plain": [
       "Rank                            4\n",
       "Team                Chicago Bears\n",
       "GP                           1469\n",
       "Won                           793\n",
       "Lost                          634\n",
       "Tied[c]                    42 (1)\n",
       "Pct.                         .556\n",
       "First NFL season             1920\n",
       "Division                NFC North\n",
       "Stadium                      None\n",
       "Name: 3, dtype: object"
      ]
     },
     "execution_count": 48,
     "metadata": {},
     "output_type": "execute_result"
    }
   ],
   "source": [
    "df.loc[3]"
   ]
  },
  {
   "cell_type": "code",
   "execution_count": 49,
   "metadata": {},
   "outputs": [
    {
     "data": {
      "text/html": [
       "<div>\n",
       "<style scoped>\n",
       "    .dataframe tbody tr th:only-of-type {\n",
       "        vertical-align: middle;\n",
       "    }\n",
       "\n",
       "    .dataframe tbody tr th {\n",
       "        vertical-align: top;\n",
       "    }\n",
       "\n",
       "    .dataframe thead th {\n",
       "        text-align: right;\n",
       "    }\n",
       "</style>\n",
       "<table border=\"1\" class=\"dataframe\">\n",
       "  <thead>\n",
       "    <tr style=\"text-align: right;\">\n",
       "      <th></th>\n",
       "      <th>City</th>\n",
       "      <th>Population</th>\n",
       "    </tr>\n",
       "  </thead>\n",
       "  <tbody>\n",
       "    <tr>\n",
       "      <th>0</th>\n",
       "      <td>Dasma</td>\n",
       "      <td>837000</td>\n",
       "    </tr>\n",
       "    <tr>\n",
       "      <th>1</th>\n",
       "      <td>Imus</td>\n",
       "      <td>3888000</td>\n",
       "    </tr>\n",
       "    <tr>\n",
       "      <th>2</th>\n",
       "      <td>Bacoor</td>\n",
       "      <td>840000</td>\n",
       "    </tr>\n",
       "  </tbody>\n",
       "</table>\n",
       "</div>"
      ],
      "text/plain": [
       "     City  Population\n",
       "0   Dasma      837000\n",
       "1    Imus     3888000\n",
       "2  Bacoor      840000"
      ]
     },
     "execution_count": 49,
     "metadata": {},
     "output_type": "execute_result"
    }
   ],
   "source": [
    "import pandas as pd\n",
    "\n",
    "data = pd.DataFrame(\n",
    "    {\"City\": [\"Dasma\", \"Imus\", \"Bacoor\"], \"Population\": [837_000, 3_888_000, 840_000]}\n",
    ")\n",
    "\n",
    "data"
   ]
  },
  {
   "cell_type": "markdown",
   "metadata": {},
   "source": [
    "## Seaborn"
   ]
  },
  {
   "cell_type": "code",
   "execution_count": 56,
   "metadata": {},
   "outputs": [
    {
     "data": {
      "text/plain": [
       "array([-0.10322757, -1.17634543, -0.36351236,  0.90130677,  1.18276402,\n",
       "        0.11430205, -1.00265064, -0.2023292 ,  0.55688906, -1.53579684,\n",
       "        0.70619022, -0.71194835, -0.07087918,  0.27283828,  1.4345313 ,\n",
       "        0.38054052,  0.8329033 , -0.51540276, -0.87401529,  0.25817824,\n",
       "        1.47144324,  0.54445522,  0.56769517, -0.71050796, -0.08451204,\n",
       "        0.07656339,  1.18387436, -0.68388704, -0.79944111,  1.07001958,\n",
       "        0.26689483, -0.77005179,  0.49602027,  1.09703729,  0.85940469,\n",
       "        0.7471473 , -1.70768936,  1.190402  , -0.08633508,  0.99220357,\n",
       "       -0.07064628,  0.50458567, -0.0620146 ,  0.35180454,  0.59442345,\n",
       "       -0.04601123, -1.16623906, -0.28303851,  0.67404925,  1.35230495,\n",
       "        1.22285379,  0.35715886,  0.28791227,  0.28726137, -1.44677712,\n",
       "       -1.20206561, -0.14760606, -1.24039991, -0.53446439,  0.09179655,\n",
       "        0.62773636, -0.07682232,  0.36573871, -1.52307278, -1.0235511 ,\n",
       "        0.01521231, -0.22071645, -0.28257397,  0.14546553, -0.23778927,\n",
       "       -1.34425751, -0.95498853, -0.10116095,  0.52267674, -0.84988832,\n",
       "       -0.36400111, -1.24112273, -0.73536741, -1.24276834,  0.28619499,\n",
       "       -0.52798855, -0.59831311, -0.49296897, -1.08922047,  0.14027511,\n",
       "       -1.01921313,  1.06478804,  0.26369242,  0.17000819,  0.57669517,\n",
       "        1.59605726, -0.47447995, -1.58003101, -0.25469993,  0.2549027 ,\n",
       "        0.76844413, -0.13072875, -0.61608415,  0.11757066,  0.55156627])"
      ]
     },
     "execution_count": 56,
     "metadata": {},
     "output_type": "execute_result"
    }
   ],
   "source": [
    "from scipy import stats\n",
    "\n",
    "dataset1 = np.random.randn(100)\n",
    "dataset1"
   ]
  },
  {
   "cell_type": "code",
   "execution_count": 61,
   "metadata": {},
   "outputs": [
    {
     "data": {
      "image/png": "[encoded data removed]",
      "text/plain": [
       "<Figure size 640x480 with 1 Axes>"
      ]
     },
     "metadata": {},
     "output_type": "display_data"
    }
   ],
   "source": [
    "sns.histplot(dataset1)\n",
    "plt.title(\"Histogram of NumPy Randn\")\n",
    "plt.show()"
   ]
  },
  {
   "cell_type": "code",
   "execution_count": 63,
   "metadata": {},
   "outputs": [
    {
     "data": {
      "image/png": "[encoded data removed]",
      "text/plain": [
       "<Figure size 640x480 with 1 Axes>"
      ]
     },
     "metadata": {},
     "output_type": "display_data"
    }
   ],
   "source": [
    "dataset2 = np.random.randn(80)\n",
    "plt.hist(dataset2, color=\"indianred\")\n",
    "plt.show()"
   ]
  },
  {
   "cell_type": "code",
   "execution_count": 67,
   "metadata": {},
   "outputs": [
    {
     "data": {
      "image/png": "[encoded data removed]",
      "text/plain": [
       "<Figure size 640x480 with 1 Axes>"
      ]
     },
     "metadata": {},
     "output_type": "display_data"
    }
   ],
   "source": [
    "plt.hist(dataset1, density=True, color=\"indianred\", alpha=0.5, bins=20)\n",
    "plt.hist(dataset2, density=True, alpha=0.5, bins=20)\n",
    "plt.show()"
   ]
  }
 ],
 "metadata": {
  "kernelspec": {
   "display_name": "base",
   "language": "python",
   "name": "python3"
  },
  "language_info": {
   "codemirror_mode": {
    "name": "ipython",
    "version": 3
   },
   "file_extension": ".py",
   "mimetype": "text/x-python",
   "name": "python",
   "nbconvert_exporter": "python",
   "pygments_lexer": "ipython3",
   "version": "3.11.7"
  }
 },
 "nbformat": 4,
 "nbformat_minor": 2
}
